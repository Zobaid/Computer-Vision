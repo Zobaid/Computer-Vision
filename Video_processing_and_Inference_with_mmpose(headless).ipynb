{
  "nbformat": 4,
  "nbformat_minor": 0,
  "metadata": {
    "colab": {
      "name": "Video processing and Inference with mmpose(headless).ipynb",
      "provenance": [],
      "collapsed_sections": [],
      "include_colab_link": true
    },
    "kernelspec": {
      "name": "python3",
      "display_name": "Python 3"
    },
    "language_info": {
      "name": "python"
    }
  },
  "cells": [
    {
      "cell_type": "markdown",
      "metadata": {
        "id": "view-in-github",
        "colab_type": "text"
      },
      "source": [
        "<a href=\"https://colab.research.google.com/github/Zobaid/Computer-Vision/blob/main/Video_processing_and_Inference_with_mmpose(headless).ipynb\" target=\"_parent\"><img src=\"https://colab.research.google.com/assets/colab-badge.svg\" alt=\"Open In Colab\"/></a>"
      ]
    },
    {
      "cell_type": "code",
      "metadata": {
        "id": "abgpJhxyyFBE",
        "colab": {
          "base_uri": "https://localhost:8080/"
        },
        "outputId": "d5e84a5b-5e9e-451c-9325-42fba889a818"
      },
      "source": [
        "#mount google drive where the files have uploaded.\n",
        "from google.colab import drive\n",
        "\n",
        "drive.mount('/content/gdrive')"
      ],
      "execution_count": null,
      "outputs": [
        {
          "output_type": "stream",
          "name": "stdout",
          "text": [
            "Mounted at /content/gdrive\n"
          ]
        }
      ]
    },
    {
      "cell_type": "code",
      "metadata": {
        "id": "5_dBVn21yw2B",
        "colab": {
          "base_uri": "https://localhost:8080/"
        },
        "outputId": "32b45a42-82d1-4959-a4a0-ca5f1604fca0"
      },
      "source": [
        "!ls '/content/gdrive/MyDrive/Headless/'"
      ],
      "execution_count": null,
      "outputs": [
        {
          "output_type": "stream",
          "name": "stdout",
          "text": [
            "1  1.mp4  2  2.mp4  3  3.mp4  4  4.mp4\tmerged\tmygeneratedvideo.avi\n"
          ]
        }
      ]
    },
    {
      "cell_type": "code",
      "metadata": {
        "colab": {
          "base_uri": "https://localhost:8080/"
        },
        "id": "vJy_btyW32I_",
        "outputId": "7a0bb78a-5443-4715-c944-e35dd733dac8"
      },
      "source": [
        "!pwd#for correct folder location"
      ],
      "execution_count": null,
      "outputs": [
        {
          "output_type": "stream",
          "name": "stdout",
          "text": [
            "/content\n"
          ]
        }
      ]
    },
    {
      "cell_type": "code",
      "metadata": {
        "id": "eWSE4MZwy46f"
      },
      "source": [
        "#import all the necessary libraries for video processing\n",
        "import numpy as np\n",
        "from PIL import Image\n",
        "import cv2\n",
        "import threading\n",
        "import glob\n",
        "import sys\n",
        "import os\n",
        "a=[]\n",
        "b=[]\n",
        "c=[]\n",
        "d=[]\n",
        "#functions for capturing frames and save them into drive system into 4 different directory\n",
        "def VideoCapture(filepath):\n",
        "    cap= cv2.VideoCapture(filepath)\n",
        "    i=0\n",
        "    while(cap.isOpened()):\n",
        "        ret, frame = cap.read()\n",
        "#         print(type(frame))\n",
        "        im = Image.fromarray(frame)\n",
        "        # print(\"1st vdo\")\n",
        "#         print(im)\n",
        "        \n",
        "        if ret == False:\n",
        "            print(\"1st video finished\")\n",
        "            break\n",
        "        cv2.imwrite('/content/gdrive/MyDrive/Headless/1/'+str(i)+'.jpg',frame)\n",
        "        i+=1\n",
        "        # a.append(im)\n",
        "     \n",
        "    cap.release()\n",
        "    cv2.destroyAllWindows()\n",
        "    return \"ok1\"\n",
        "\n",
        "def VideoCapture2(filepath):\n",
        "    cap2= cv2.VideoCapture(filepath)\n",
        "    i=0\n",
        "    while(cap2.isOpened()):\n",
        "        ret, frame = cap2.read()\n",
        "#         print(type(frame))\n",
        "        im2 = Image.fromarray(frame)\n",
        "        # print(\"2nd vdo\")\n",
        "#         print(im2)\n",
        "        \n",
        "        if ret == False:\n",
        "            print(\"2nd video finished\")\n",
        "            break\n",
        "#         cv2.imwrite('./1/'+str(i)+'.jpg',frame)\n",
        "        cv2.imwrite('/content/gdrive/MyDrive/Headless/2/'+str(i)+'.jpg',frame)\n",
        "\n",
        "        i+=1\n",
        "        # b.append(im2)\n",
        "     \n",
        "    cap2.release()\n",
        "    cv2.destroyAllWindows()\n",
        "    return \"ok2\"\n",
        "\n",
        "\n",
        "def VideoCapture3(filepath):\n",
        "    cap3= cv2.VideoCapture(filepath)\n",
        "    i=0\n",
        "    while(cap3.isOpened()):\n",
        "        ret, frame = cap3.read()\n",
        "#         print(type(frame))\n",
        "        im = Image.fromarray(frame)\n",
        "        # print(\"1st vdo\")\n",
        "#         print(im)\n",
        "        \n",
        "        if ret == False:\n",
        "            print(\"1st video finished\")\n",
        "            break\n",
        "#         cv2.imwrite('./1/'+str(i)+'.jpg',frame)\n",
        "        cv2.imwrite('/content/gdrive/MyDrive/Headless/3/'+str(i)+'.jpg',frame)\n",
        "\n",
        "        i+=1\n",
        "        # c.append(im)\n",
        "     \n",
        "    cap3.release()\n",
        "    cv2.destroyAllWindows()\n",
        "    return \"ok3\"\n",
        "\n",
        "def VideoCapture4(filepath):\n",
        "    cap4= cv2.VideoCapture(filepath)\n",
        "    i=0\n",
        "    while(cap4.isOpened()):\n",
        "        ret, frame = cap4.read()\n",
        "#         print(type(frame))\n",
        "        im2 = Image.fromarray(frame)\n",
        "        # print(\"2nd vdo\")\n",
        "#         print(im2)\n",
        "        \n",
        "        if ret == False:\n",
        "            print(\"2nd video finished\")\n",
        "            break\n",
        "#         cv2.imwrite('./1/'+str(i)+'.jpg',frame)\n",
        "        cv2.imwrite('/content/gdrive/MyDrive/Headless/4/'+str(i)+'.jpg',frame)\n",
        "\n",
        "        i+=1\n",
        "        # d.append(im2)\n",
        "     \n",
        "    cap4.release()\n",
        "    cv2.destroyAllWindows()\n",
        "    return \"ok4\""
      ],
      "execution_count": null,
      "outputs": []
    },
    {
      "cell_type": "code",
      "metadata": {
        "id": "_GkXJzR1zfaV"
      },
      "source": [
        "#funtion for multi threading\n",
        "def procesframes():\n",
        "    processes = []\n",
        "    videos=[\"/content/gdrive/MyDrive/Headless/1.mp4\",\"/content/gdrive/MyDrive/Headless/2.mp4\",\"/content/gdrive/MyDrive/Headless/3.mp4\",\"/content/gdrive/MyDrive/Headless/4.mp4\"]\n",
        "    # videos=[\"1.mp4\",\"2.mp4\",\"3.mp4\",\"4.mp4\"]\n",
        "\n",
        "\n",
        "    processes.append(threading.Thread(target=VideoCapture, args=(videos[0],)))\n",
        "    processes.append(threading.Thread(target=VideoCapture2, args=(videos[1],)))\n",
        "\n",
        "    processes.append(threading.Thread(target=VideoCapture3, args=(videos[2],)))\n",
        "    processes.append(threading.Thread(target=VideoCapture4, args=(videos[3],)))\n",
        "\n",
        "    for process in processes:\n",
        "        process.start()\n",
        "\n",
        "    for process in processes:\n",
        "        process.join()"
      ],
      "execution_count": null,
      "outputs": []
    },
    {
      "cell_type": "markdown",
      "metadata": {
        "id": "oFHUGQpvVdUQ"
      },
      "source": [
        "Please ignore the errors below as they do not cause any runtime problems"
      ]
    },
    {
      "cell_type": "code",
      "metadata": {
        "id": "D3rYAA0p0LAo",
        "colab": {
          "base_uri": "https://localhost:8080/"
        },
        "outputId": "42c0bfe1-4b5a-48e4-b3ad-cfc24d31fafd"
      },
      "source": [
        "#multi-threading where 4 different fucntions were executed simultanously\n",
        "procesframes()"
      ],
      "execution_count": null,
      "outputs": [
        {
          "output_type": "stream",
          "name": "stderr",
          "text": [
            "Exception in thread Thread-15:\n",
            "Traceback (most recent call last):\n",
            "  File \"/usr/lib/python3.7/threading.py\", line 926, in _bootstrap_inner\n",
            "    self.run()\n",
            "  File \"/usr/lib/python3.7/threading.py\", line 870, in run\n",
            "    self._target(*self._args, **self._kwargs)\n",
            "  File \"<ipython-input-13-d8d91260d52b>\", line 84, in VideoCapture4\n",
            "    im2 = Image.fromarray(frame)\n",
            "  File \"/usr/local/lib/python3.7/dist-packages/PIL/Image.py\", line 2704, in fromarray\n",
            "    arr = obj.__array_interface__\n",
            "AttributeError: 'NoneType' object has no attribute '__array_interface__'\n",
            "\n",
            "Exception in thread Thread-13:\n",
            "Traceback (most recent call last):\n",
            "  File \"/usr/lib/python3.7/threading.py\", line 926, in _bootstrap_inner\n",
            "    self.run()\n",
            "  File \"/usr/lib/python3.7/threading.py\", line 870, in run\n",
            "    self._target(*self._args, **self._kwargs)\n",
            "  File \"<ipython-input-13-d8d91260d52b>\", line 37, in VideoCapture2\n",
            "    im2 = Image.fromarray(frame)\n",
            "  File \"/usr/local/lib/python3.7/dist-packages/PIL/Image.py\", line 2704, in fromarray\n",
            "    arr = obj.__array_interface__\n",
            "AttributeError: 'NoneType' object has no attribute '__array_interface__'\n",
            "\n",
            "Exception in thread Thread-14:\n",
            "Traceback (most recent call last):\n",
            "  File \"/usr/lib/python3.7/threading.py\", line 926, in _bootstrap_inner\n",
            "    self.run()\n",
            "  File \"/usr/lib/python3.7/threading.py\", line 870, in run\n",
            "    self._target(*self._args, **self._kwargs)\n",
            "  File \"<ipython-input-13-d8d91260d52b>\", line 61, in VideoCapture3\n",
            "    im = Image.fromarray(frame)\n",
            "  File \"/usr/local/lib/python3.7/dist-packages/PIL/Image.py\", line 2704, in fromarray\n",
            "    arr = obj.__array_interface__\n",
            "AttributeError: 'NoneType' object has no attribute '__array_interface__'\n",
            "\n",
            "Exception in thread Thread-12:\n",
            "Traceback (most recent call last):\n",
            "  File \"/usr/lib/python3.7/threading.py\", line 926, in _bootstrap_inner\n",
            "    self.run()\n",
            "  File \"/usr/lib/python3.7/threading.py\", line 870, in run\n",
            "    self._target(*self._args, **self._kwargs)\n",
            "  File \"<ipython-input-13-d8d91260d52b>\", line 16, in VideoCapture\n",
            "    im = Image.fromarray(frame)\n",
            "  File \"/usr/local/lib/python3.7/dist-packages/PIL/Image.py\", line 2704, in fromarray\n",
            "    arr = obj.__array_interface__\n",
            "AttributeError: 'NoneType' object has no attribute '__array_interface__'\n",
            "\n"
          ]
        }
      ]
    },
    {
      "cell_type": "code",
      "metadata": {
        "id": "zQ3e33OLY3gI"
      },
      "source": [
        "#read though the images inside the folder system\n",
        "file_name=[]\n",
        "file_name2=[]\n",
        "file_name3=[]\n",
        "file_name4=[]\n",
        "\n",
        "for filename in glob.glob('/content/gdrive/MyDrive/Headless/1/*.jpg'):\n",
        "    print(filename)\n",
        "    file_name.append(filename)\n",
        "    \n",
        "for filename2 in glob.glob('/content/gdrive/MyDrive/Headless/2/*.jpg'):\n",
        "#     print(filename)\n",
        "    file_name2.append(filename2) \n",
        "    \n",
        "for filename3 in glob.glob('/content/gdrive/MyDrive/Headless/3/*.jpg'):\n",
        "#     print(filename)\n",
        "    file_name3.append(filename3)  \n",
        "    \n",
        "for filename4 in glob.glob('/content/gdrive/MyDrive/Headless/4/*.jpg'):\n",
        "#     print(filename)\n",
        "    file_name4.append(filename4) "
      ],
      "execution_count": null,
      "outputs": []
    },
    {
      "cell_type": "markdown",
      "metadata": {
        "id": "EBVZnLfHWWfY"
      },
      "source": [
        "When I tried to load the frames directly into memory my local pc and colab failed because of excessive memory usage. I used aws sagemaker p3.xlarge  gpu from my work which has 64gb memory ,was abled to run it but later failed when the final list of 4k frames was introduced.\n",
        "Upon testing some methods it had to try saving the images into disk and read from there. Even that was failed in colab due to low memory.\n",
        "I had reduce each video frames size to fit inside colab. Also had to compress a lot of that images to fit it inside colab.4k frames cant be used in Colab for the same memory problem. Each of the tests took at least 4/5 hours to finsih,So a lot of test/debug have been done."
      ]
    },
    {
      "cell_type": "code",
      "metadata": {
        "id": "9A_Osd_2Zaz-"
      },
      "source": [
        "#resizing frames to reduce memory used.i tired on p3.xlarge machine in aws Sagemaker 4k videosize 10.2gb was not feasible to test\n",
        "#ultimately needed to compress the images.\n",
        "\n",
        "im=[]\n",
        "im2=[]\n",
        "im3=[]\n",
        "im4=[]\n",
        "for item in (file_name):\n",
        "    m = Image.open(item)\n",
        "    img = m.resize((495, 270), Image.ANTIALIAS)\n",
        "    print(\"resizing1\")\n",
        "    im.append(img)\n",
        "# print((im))\n",
        "    \n",
        "for item2 in file_name2:\n",
        "    m2 = Image.open(item2)\n",
        "    img2 = m2.resize((495, 270), Image.ANTIALIAS)\n",
        "    print(\"resizing2\")\n",
        "\n",
        "    im2.append(img2)\n",
        "#     print(type(im2))\n",
        "\n",
        "for item3 in file_name3:\n",
        "    m3 = Image.open(item3)\n",
        "    img3 = m3.resize((495, 270), Image.ANTIALIAS)\n",
        "    print(\"resizing3\")\n",
        "\n",
        "    im3.append(img3)\n",
        "# print((im))\n",
        "    \n",
        "for item4 in file_name4:\n",
        "    m4 = Image.open(item4)\n",
        "    img4 = m4.resize((495, 270), Image.ANTIALIAS)\n",
        "    print(\"resizing4\")\n",
        "\n",
        "    im4.append(img4)\n",
        "#     print(type(im2))"
      ],
      "execution_count": null,
      "outputs": []
    },
    {
      "cell_type": "code",
      "metadata": {
        "colab": {
          "base_uri": "https://localhost:8080/"
        },
        "id": "gkPEJZ3nZfG3",
        "outputId": "2af816e4-4c59-4f31-b0e7-7688f5ef7d24"
      },
      "source": [
        "print(len(im4))#sanity test of th list images"
      ],
      "execution_count": null,
      "outputs": [
        {
          "output_type": "stream",
          "name": "stdout",
          "text": [
            "322\n"
          ]
        }
      ]
    },
    {
      "cell_type": "code",
      "metadata": {
        "id": "9qLeAEmhzkjV"
      },
      "source": [
        "#check and fill up arrays with blank frmaes\n",
        "import numpy as np\n",
        "img = np.zeros([270,495,3],dtype=np.uint8)\n",
        "img.fill(255) # or img[:] = 255\n",
        "w=Image.fromarray(img)\n",
        "# w.save(\"/content/gdrive/MyDrive/Headless/s.png\")\n",
        "\n",
        "while len(im2)<len(im):\n",
        "    print(\"ok\")\n",
        "    im2.append(w)\n",
        "while len(im3)<len(im):\n",
        "    print(\"ok\")\n",
        "    im3.append(w)\n",
        "while len(im4)<len(im):\n",
        "    print(\"ok\")\n",
        "    im4.append(w)"
      ],
      "execution_count": null,
      "outputs": []
    },
    {
      "cell_type": "code",
      "metadata": {
        "id": "GazbbsShzvoD"
      },
      "source": [
        "#functions for joining frames into single frame\n",
        "def join_images(*rows, bg_color=(0, 0, 0, 0), alignment=(0.5, 0.5)):\n",
        "    rows = [\n",
        "        [image.convert('RGBA') for image in row]\n",
        "        for row\n",
        "        in rows\n",
        "    ]\n",
        "\n",
        "    heights = [\n",
        "        max(image.height for image in row)\n",
        "        for row\n",
        "        in rows\n",
        "    ]\n",
        "\n",
        "    widths = [\n",
        "        max(image.width for image in column)\n",
        "        for column\n",
        "        in zip(*rows)\n",
        "    ]\n",
        "\n",
        "    tmp = Image.new(\n",
        "        'RGBA',\n",
        "        size=(sum(widths), sum(heights)),\n",
        "        color=bg_color\n",
        "    )\n",
        "\n",
        "    for i, row in enumerate(rows):\n",
        "        for j, image in enumerate(row):\n",
        "            y = sum(heights[:i]) + int((heights[i] - image.height) * alignment[1])\n",
        "            x = sum(widths[:j]) + int((widths[j] - image.width) * alignment[0])\n",
        "            tmp.paste(image, (x, y))\n",
        "    # tmp.show()\n",
        "\n",
        "    return tmp\n",
        "\n",
        "\n",
        "def join_images_horizontally(*row, bg_color=(0, 0, 0), alignment=(0.5, 0.5)):\n",
        "    return join_images(\n",
        "        row,\n",
        "        bg_color=bg_color,\n",
        "        alignment=alignment\n",
        "    )\n",
        "\n",
        "\n",
        "def join_images_vertically(*column, bg_color=(0, 0, 0), alignment=(0.5, 0.5)):\n",
        "    return join_images(\n",
        "        *[[image] for image in column],\n",
        "        bg_color=bg_color,\n",
        "        alignment=alignment\n",
        "    )"
      ],
      "execution_count": null,
      "outputs": []
    },
    {
      "cell_type": "code",
      "metadata": {
        "id": "cmNWfE9GzyWu"
      },
      "source": [
        "for i in range(len(im)):\n",
        "  images = [\n",
        "          [im[i], im3[i]],\n",
        "\n",
        "          [im2[i], im4[i]],\n",
        "      ]\n",
        "  # for z in range(len(im)):\n",
        "  g=join_images(\n",
        "      *images,\n",
        "      bg_color='green',\n",
        "      alignment=(0.5, 0.5))\n",
        "  \n",
        "  g.save('/content/gdrive/MyDrive/Headless/merged/'+str(i)+'.png',optimize=True,quality=90)"
      ],
      "execution_count": null,
      "outputs": []
    },
    {
      "cell_type": "code",
      "metadata": {
        "id": "LanWBmRQjlu_"
      },
      "source": [
        "# from PIL import Image\n",
        "# import glob\n",
        "# count=0\n",
        " \n",
        "# for filename in glob.glob('/content/gdrive/MyDrive/Headless/merged/*.png'): \n",
        "#     img = Image.open(filename)\n",
        "# #     print(filename)\n",
        "    \n",
        "#     count+=1\n",
        "# #     print(count)\n",
        "#     img.save('/content/gdrive/MyDrive/Headless/merged/'+ str(count) +'.png',optimize=True,quality=50)\n",
        "\n",
        "                          \n",
        "                          "
      ],
      "execution_count": null,
      "outputs": []
    },
    {
      "cell_type": "code",
      "metadata": {
        "colab": {
          "base_uri": "https://localhost:8080/"
        },
        "id": "GVQV89RQ0vvp",
        "outputId": "9f098734-2c32-4f0b-f444-58b36fa03305"
      },
      "source": [
        "#funtion for frames to video\n",
        "\n",
        "# Checking the current directory path\n",
        "print(os.getcwd())\n",
        "\n",
        "# Folder which contains all the images\n",
        "# from which video is to be generated\n",
        "os.chdir(\"/content/gdrive/MyDrive/Headless/merged/\")\n",
        "path = \"/content/gdrive/MyDrive/Headless/\"\n",
        "\n",
        "mean_height = 0\n",
        "mean_width = 0\n",
        "\n",
        "num_of_images = len(os.listdir('/content/gdrive/MyDrive/Headless/merged/'))\n",
        "print(num_of_images)\n",
        "\n",
        "# for file in os.listdir('/content/gdrive/MyDrive/Headless/merged/'):\n",
        "#     im = Image.open(os.path.join(path, file))\n",
        "#     width, height = im.size\n",
        "#     mean_width += width\n",
        "#     mean_height += height\n",
        "    # im.show() # uncomment this for displaying the image\n",
        "\n",
        "# Finding the mean height and width of all images.\n",
        "# This is required because the video frame needs\n",
        "# to be set with same width and height. Otherwise\n",
        "# images not equal to that width height will not get\n",
        "# embedded into the video\n",
        "# mean_width = int(mean_width / num_of_images)\n",
        "# mean_height = int(mean_height / num_of_images)\n",
        "\n",
        "# print(mean_height)\n",
        "# print(mean_width)\n",
        "\n",
        "# # Resizing of the images to give\n",
        "# # them same width and height\n",
        "# for file in os.listdir('./mergedframe/'):\n",
        "#     if file.endswith(\".jpg\") or file.endswith(\".jpeg\") or file.endswith(\"png\"):\n",
        "#     # opening image using PIL Image\n",
        "#         im = Image.open(os.path.join(path, file))\n",
        "\n",
        "#         # im.size includes the height and width of image\n",
        "#         width, height = im.size\n",
        "#         print(width, height)\n",
        "\n",
        "#         # resizing\n",
        "#         imResize = im.resize((mean_width, mean_height), Image.ANTIALIAS)\n",
        "#         imResize.save( file, 'JPEG', quality = 95) # setting quality\n",
        "#         # printing each resized image name\n",
        "#         print(im.filename.split('\\\\')[-1], \" is resized\")\n",
        "\n",
        "\n",
        "# Video Generating function\n",
        "def generate_video():\n",
        "    image_folder = '/content/gdrive/MyDrive/Headless/merged/' # make sure to use your folder\n",
        "    video_name = '/content/gdrive/MyDrive/Headless/mygeneratedvideo2.mp4'\n",
        "    os.chdir(\"/content/gdrive/MyDrive/Headless/\")\n",
        "\n",
        "    images = [img for img in os.listdir(image_folder)\n",
        "              if img.endswith(\".jpg\") or\n",
        "              img.endswith(\".jpeg\") or\n",
        "              img.endswith(\"png\")]\n",
        "\n",
        "# Array images should only consider\n",
        "# the image files ignoring others if any\n",
        "    print(images)\n",
        "\n",
        "    frame = cv2.imread(os.path.join(image_folder, images[0]))\n",
        "\n",
        "    # setting the frame width, height width\n",
        "    # the width, height of first image\n",
        "    height, width, layers = frame.shape\n",
        "\n",
        "    # video = cv2.VideoWriter(video_name, 0, 1, (width, height))\n",
        "    video = cv2.VideoWriter(video_name,cv2.VideoWriter_fourcc(*'MP4V'), 30, (width, height))\n",
        "\n",
        "\n",
        "    # Appending the images to the video one by one\n",
        "    for image in images:\n",
        "        video.write(cv2.imread(os.path.join(image_folder, image)))\n",
        "\n",
        "# Deallocating memories taken for window creation\n",
        "    cv2.destroyAllWindows()\n",
        "    video.release() # releasing the video generated\n",
        "\n",
        "\n",
        "# Calling the generate_video function\n",
        "generate_video()\n"
      ],
      "execution_count": null,
      "outputs": [
        {
          "output_type": "stream",
          "name": "stdout",
          "text": [
            "/content/gdrive/My Drive/Headless\n",
            "815\n",
            "0\n",
            "0\n",
            "['0.png', '1.png', '2.png', '3.png', '4.png', '5.png', '6.png', '7.png', '8.png', '9.png', '10.png', '11.png', '12.png', '13.png', '14.png', '15.png', '16.png', '17.png', '18.png', '19.png', '20.png', '21.png', '22.png', '23.png', '24.png', '25.png', '26.png', '27.png', '28.png', '29.png', '30.png', '31.png', '32.png', '33.png', '34.png', '35.png', '36.png', '37.png', '38.png', '39.png', '40.png', '41.png', '42.png', '43.png', '44.png', '45.png', '46.png', '47.png', '48.png', '49.png', '50.png', '51.png', '52.png', '53.png', '54.png', '55.png', '56.png', '57.png', '58.png', '59.png', '60.png', '61.png', '62.png', '63.png', '64.png', '65.png', '66.png', '67.png', '68.png', '69.png', '70.png', '71.png', '72.png', '73.png', '74.png', '75.png', '76.png', '77.png', '78.png', '79.png', '80.png', '81.png', '82.png', '83.png', '84.png', '85.png', '86.png', '87.png', '88.png', '89.png', '90.png', '91.png', '92.png', '93.png', '94.png', '95.png', '96.png', '97.png', '98.png', '99.png', '100.png', '101.png', '102.png', '103.png', '104.png', '105.png', '106.png', '107.png', '108.png', '109.png', '110.png', '111.png', '112.png', '113.png', '114.png', '115.png', '116.png', '117.png', '118.png', '119.png', '120.png', '121.png', '122.png', '123.png', '124.png', '125.png', '126.png', '127.png', '128.png', '129.png', '130.png', '131.png', '132.png', '133.png', '134.png', '135.png', '136.png', '137.png', '138.png', '139.png', '140.png', '141.png', '142.png', '143.png', '144.png', '145.png', '146.png', '147.png', '148.png', '149.png', '150.png', '151.png', '152.png', '153.png', '154.png', '155.png', '156.png', '157.png', '158.png', '159.png', '160.png', '161.png', '162.png', '163.png', '164.png', '165.png', '166.png', '167.png', '168.png', '169.png', '170.png', '171.png', '172.png', '173.png', '174.png', '175.png', '176.png', '177.png', '178.png', '179.png', '180.png', '181.png', '182.png', '183.png', '184.png', '185.png', '186.png', '187.png', '188.png', '189.png', '190.png', '191.png', '192.png', '193.png', '194.png', '195.png', '196.png', '197.png', '198.png', '199.png', '200.png', '201.png', '202.png', '203.png', '204.png', '205.png', '206.png', '207.png', '208.png', '209.png', '210.png', '211.png', '212.png', '213.png', '214.png', '215.png', '216.png', '217.png', '218.png', '219.png', '220.png', '221.png', '222.png', '223.png', '224.png', '225.png', '226.png', '227.png', '228.png', '229.png', '230.png', '231.png', '232.png', '233.png', '234.png', '235.png', '236.png', '237.png', '238.png', '239.png', '240.png', '241.png', '242.png', '243.png', '244.png', '245.png', '246.png', '247.png', '248.png', '249.png', '250.png', '251.png', '252.png', '253.png', '254.png', '255.png', '256.png', '257.png', '258.png', '259.png', '260.png', '261.png', '262.png', '263.png', '264.png', '265.png', '266.png', '267.png', '268.png', '269.png', '270.png', '271.png', '272.png', '273.png', '274.png', '275.png', '276.png', '277.png', '278.png', '279.png', '280.png', '281.png', '282.png', '283.png', '284.png', '285.png', '286.png', '287.png', '288.png', '289.png', '290.png', '291.png', '292.png', '293.png', '294.png', '295.png', '296.png', '297.png', '298.png', '299.png', '300.png', '301.png', '302.png', '303.png', '304.png', '305.png', '306.png', '307.png', '308.png', '309.png', '310.png', '311.png', '312.png', '313.png', '314.png', '315.png', '316.png', '317.png', '318.png', '319.png', '320.png', '321.png', '322.png', '323.png', '324.png', '325.png', '326.png', '327.png', '328.png', '329.png', '330.png', '331.png', '332.png', '333.png', '334.png', '335.png', '336.png', '337.png', '338.png', '339.png', '340.png', '341.png', '342.png', '343.png', '344.png', '345.png', '346.png', '347.png', '348.png', '349.png', '350.png', '351.png', '352.png', '353.png', '354.png', '355.png', '356.png', '357.png', '358.png', '359.png', '360.png', '361.png', '362.png', '363.png', '364.png', '365.png', '366.png', '367.png', '368.png', '369.png', '370.png', '371.png', '372.png', '373.png', '374.png', '375.png', '376.png', '377.png', '378.png', '379.png', '380.png', '381.png', '382.png', '383.png', '384.png', '385.png', '386.png', '387.png', '388.png', '389.png', '390.png', '391.png', '392.png', '393.png', '394.png', '395.png', '396.png', '397.png', '398.png', '399.png', '400.png', '401.png', '402.png', '403.png', '404.png', '405.png', '406.png', '407.png', '408.png', '409.png', '410.png', '411.png', '412.png', '413.png', '414.png', '415.png', '416.png', '417.png', '418.png', '419.png', '420.png', '421.png', '422.png', '423.png', '424.png', '425.png', '426.png', '427.png', '428.png', '429.png', '430.png', '431.png', '432.png', '433.png', '434.png', '435.png', '436.png', '437.png', '438.png', '439.png', '440.png', '441.png', '442.png', '443.png', '444.png', '445.png', '446.png', '447.png', '448.png', '449.png', '450.png', '451.png', '452.png', '453.png', '454.png', '455.png', '456.png', '457.png', '458.png', '459.png', '460.png', '461.png', '462.png', '463.png', '464.png', '465.png', '466.png', '467.png', '468.png', '469.png', '470.png', '471.png', '472.png', '473.png', '474.png', '475.png', '476.png', '477.png', '478.png', '479.png', '480.png', '481.png', '482.png', '483.png', '484.png', '485.png', '486.png', '487.png', '488.png', '489.png', '490.png', '491.png', '492.png', '493.png', '494.png', '495.png', '496.png', '497.png', '498.png', '499.png', '500.png', '501.png', '502.png', '503.png', '504.png', '505.png', '506.png', '507.png', '508.png', '509.png', '510.png', '511.png', '512.png', '513.png', '514.png', '515.png', '516.png', '517.png', '518.png', '519.png', '520.png', '521.png', '522.png', '523.png', '524.png', '525.png', '526.png', '527.png', '528.png', '529.png', '530.png', '531.png', '532.png', '533.png', '534.png', '535.png', '536.png', '537.png', '538.png', '539.png', '540.png', '541.png', '542.png', '543.png', '544.png', '545.png', '546.png', '547.png', '548.png', '549.png', '550.png', '551.png', '552.png', '553.png', '554.png', '555.png', '556.png', '557.png', '558.png', '559.png', '560.png', '561.png', '562.png', '563.png', '564.png', '565.png', '566.png', '567.png', '568.png', '569.png', '570.png', '571.png', '572.png', '573.png', '574.png', '575.png', '576.png', '577.png', '578.png', '579.png', '580.png', '581.png', '582.png', '583.png', '584.png', '585.png', '586.png', '587.png', '588.png', '589.png', '590.png', '591.png', '592.png', '593.png', '594.png', '595.png', '596.png', '597.png', '598.png', '599.png', '600.png', '601.png', '602.png', '603.png', '604.png', '605.png', '606.png', '607.png', '608.png', '609.png', '610.png', '611.png', '612.png', '613.png', '614.png', '615.png', '616.png', '617.png', '618.png', '619.png', '620.png', '621.png', '622.png', '623.png', '624.png', '625.png', '626.png', '627.png', '628.png', '629.png', '630.png', '631.png', '632.png', '633.png', '634.png', '635.png', '636.png', '637.png', '638.png', '639.png', '640.png', '641.png', '642.png', '643.png', '644.png', '645.png', '646.png', '647.png', '648.png', '649.png', '650.png', '651.png', '652.png', '653.png', '654.png', '655.png', '656.png', '657.png', '658.png', '659.png', '660.png', '661.png', '662.png', '663.png', '664.png', '665.png', '666.png', '667.png', '668.png', '669.png', '670.png', '671.png', '672.png', '673.png', '674.png', '675.png', '676.png', '677.png', '678.png', '679.png', '680.png', '681.png', '682.png', '683.png', '684.png', '685.png', '686.png', '687.png', '688.png', '689.png', '690.png', '691.png', '692.png', '693.png', '694.png', '695.png', '696.png', '697.png', '698.png', '699.png', '700.png', '701.png', '702.png', '703.png', '704.png', '705.png', '706.png', '707.png', '708.png', '709.png', '710.png', '711.png', '712.png', '713.png', '714.png', '715.png', '716.png', '717.png', '718.png', '719.png', '720.png', '721.png', '722.png', '723.png', '724.png', '725.png', '726.png', '727.png', '728.png', '729.png', '730.png', '731.png', '732.png', '733.png', '734.png', '735.png', '736.png', '737.png', '738.png', '739.png', '740.png', '741.png', '742.png', '743.png', '744.png', '745.png', '746.png', '747.png', '748.png', '749.png', '750.png', '751.png', '752.png', '753.png', '754.png', '755.png', '756.png', '757.png', '758.png', '759.png', '760.png', '761.png', '762.png', '763.png', '764.png', '765.png', '766.png', '767.png', '768.png', '769.png', '770.png', '771.png', '772.png', '773.png', '774.png', '775.png', '776.png', '777.png', '778.png', '779.png', '780.png', '781.png', '782.png', '783.png', '784.png', '785.png', '786.png', '787.png', '788.png', '789.png', '790.png', '791.png', '792.png', '793.png', '794.png', '795.png', '796.png', '797.png', '798.png', '799.png', '800.png', '801.png', '802.png', '803.png', '804.png', '805.png', '806.png', '807.png', '808.png', '809.png', '810.png', '811.png', '812.png', '813.png', '814.png']\n"
          ]
        }
      ]
    },
    {
      "cell_type": "markdown",
      "metadata": {
        "id": "4XRrTZnHaQ_t"
      },
      "source": [
        "At this point the video has been generated from all 4 videos and it can processed with differnt image quality and test.\n",
        "\n",
        "\n",
        "*****************************************end of video processing****************************"
      ]
    },
    {
      "cell_type": "markdown",
      "metadata": {
        "id": "sDAsuRdUa3hF"
      },
      "source": [
        "******start of inference*********"
      ]
    },
    {
      "cell_type": "code",
      "metadata": {
        "id": "4Y2xWk6oztNZ"
      },
      "source": [
        "#please change the runtime to use GPU"
      ],
      "execution_count": null,
      "outputs": []
    },
    {
      "cell_type": "code",
      "metadata": {
        "id": "7OJTN6fDarYy"
      },
      "source": [
        "# check NVCC version\n",
        "!nvcc -V\n",
        "\n",
        "# check GCC version\n",
        "!gcc --version\n",
        "\n",
        "# check python in conda environtment\n",
        "!which python"
      ],
      "execution_count": null,
      "outputs": []
    },
    {
      "cell_type": "code",
      "metadata": {
        "id": "gQVVtRSRbBCy"
      },
      "source": [
        "!pip install torch\n",
        "\n",
        "# install mmcv-full\n",
        "!pip install mmcv-full\n",
        "\n",
        "# install mmdet for inference demo\n",
        "!pip install mmdet\n",
        "\n",
        "# clone mmpose repo\n",
        "!rm -rf mmpose\n",
        "!git clone https://github.com/open-mmlab/mmpose.git\n",
        "%cd mmpose\n",
        "\n",
        "# install mmpose dependencies\n",
        "!pip install -r requirements.txt\n",
        "\n",
        "# install mmpose in develop mode\n",
        "!pip install -e ."
      ],
      "execution_count": null,
      "outputs": []
    },
    {
      "cell_type": "code",
      "metadata": {
        "id": "rGgFhulcbEAL"
      },
      "source": [
        "\n",
        "# Check Pytorch installation\n",
        "import torch, torchvision\n",
        "print('torch version:', torch.__version__, torch.cuda.is_available())\n",
        "print('torchvision version:', torchvision.__version__)\n",
        "\n",
        "# Check MMPose installation\n",
        "import mmpose\n",
        "print('mmpose version:', mmpose.__version__)\n",
        "\n",
        "# Check mmcv installation\n",
        "from mmcv.ops import get_compiling_cuda_version, get_compiler_version\n",
        "print('cuda version:', get_compiling_cuda_version())\n",
        "print('compiler information:', get_compiler_version())"
      ],
      "execution_count": null,
      "outputs": []
    },
    {
      "cell_type": "code",
      "metadata": {
        "id": "bpz8jhINbNBw"
      },
      "source": [
        "!pip install opencv-python==4.0.0.21\n",
        "#newwer version of opencv had many issues, failed so many tests"
      ],
      "execution_count": null,
      "outputs": []
    },
    {
      "cell_type": "code",
      "metadata": {
        "id": "MANDSUwDbV4y"
      },
      "source": [
        "#mount gdrive if not already done\n",
        "from google.colab import drive\n",
        "\n",
        "drive.mount('/content/gdrive')"
      ],
      "execution_count": null,
      "outputs": []
    },
    {
      "cell_type": "markdown",
      "metadata": {
        "id": "4jzdz_Z0bi0b"
      },
      "source": [
        "Assuming we know the video location we do the inference using mmpose\n",
        "The libraries wont work util it is downloaded after every start of the runtime.Inference video has somehow very low quality.\n",
        "We can try improving video processing with more ram runtime."
      ]
    },
    {
      "cell_type": "code",
      "metadata": {
        "id": "ZgmZe2p6bgZd"
      },
      "source": [
        "!python mmpose/demo/top_down_pose_tracking_demo_with_mmdet.py \\\n",
        "    mmpose/demo/mmdetection_cfg/faster_rcnn_r50_fpn_coco.py \\\n",
        "    https://download.openmmlab.com/mmdetection/v2.0/faster_rcnn/faster_rcnn_r50_fpn_1x_coco/faster_rcnn_r50_fpn_1x_coco_20200130-047c8118.pth \\\n",
        "    mmpose/configs/body/2d_kpt_sview_rgb_img/topdown_heatmap/coco/res50_coco_256x192.py \\\n",
        "    https://download.openmmlab.com/mmpose/top_down/resnet/res50_coco_256x192-ec54d7f3_20200709.pth \\\n",
        "    --video-path '/content/gdrive/MyDrive/Headless/mygeneratedvideo2.mp4' \\\n",
        "    --out-video-root '/content/gdrive/MyDrive/Headless/output.mp4'"
      ],
      "execution_count": null,
      "outputs": []
    },
    {
      "cell_type": "code",
      "metadata": {
        "id": "Dds7ZKt_dx1i"
      },
      "source": [
        "#video link\n",
        "https://drive.google.com/file/d/1--mWHIPZMQ243MFDHzhy2bvkHnSTenOS/view?usp=sharing\n",
        "#drive link\n",
        "https://drive.google.com/drive/folders/1xLJvF1VrJZd4U5KyAW4g0LCInbsqW1HX?usp=sharing\n"
      ],
      "execution_count": null,
      "outputs": []
    }
  ]
}